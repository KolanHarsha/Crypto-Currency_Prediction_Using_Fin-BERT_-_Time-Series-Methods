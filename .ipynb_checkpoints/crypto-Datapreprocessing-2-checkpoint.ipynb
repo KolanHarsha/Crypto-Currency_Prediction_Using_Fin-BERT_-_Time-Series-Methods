{
 "cells": [
  {
   "cell_type": "code",
   "execution_count": 1,
   "id": "48fdbf87-d5f3-4758-a8f3-c3b5b00ac7ea",
   "metadata": {},
   "outputs": [],
   "source": [
    "import pandas as pd"
   ]
  },
  {
   "cell_type": "code",
   "execution_count": 17,
   "id": "c65400b5-3cb5-494d-b607-24c5d548ebe1",
   "metadata": {},
   "outputs": [],
   "source": [
    "df=pd.read_csv(r\"C:\\Users\\Harsha\\Desktop\\New folder\\currency.csv\")"
   ]
  },
  {
   "cell_type": "code",
   "execution_count": 18,
   "id": "c759b9af-0084-42f8-876b-389780f850da",
   "metadata": {},
   "outputs": [
    {
     "data": {
      "text/html": [
       "<div>\n",
       "<style scoped>\n",
       "    .dataframe tbody tr th:only-of-type {\n",
       "        vertical-align: middle;\n",
       "    }\n",
       "\n",
       "    .dataframe tbody tr th {\n",
       "        vertical-align: top;\n",
       "    }\n",
       "\n",
       "    .dataframe thead th {\n",
       "        text-align: right;\n",
       "    }\n",
       "</style>\n",
       "<table border=\"1\" class=\"dataframe\">\n",
       "  <thead>\n",
       "    <tr style=\"text-align: right;\">\n",
       "      <th></th>\n",
       "      <th>id</th>\n",
       "      <th>code</th>\n",
       "      <th>name</th>\n",
       "    </tr>\n",
       "  </thead>\n",
       "  <tbody>\n",
       "    <tr>\n",
       "      <th>0</th>\n",
       "      <td>91</td>\n",
       "      <td>BTC</td>\n",
       "      <td>Bitcoin</td>\n",
       "    </tr>\n",
       "    <tr>\n",
       "      <th>1</th>\n",
       "      <td>92</td>\n",
       "      <td>ETH</td>\n",
       "      <td>Ethereum</td>\n",
       "    </tr>\n",
       "    <tr>\n",
       "      <th>2</th>\n",
       "      <td>93</td>\n",
       "      <td>USDT</td>\n",
       "      <td>Tether</td>\n",
       "    </tr>\n",
       "    <tr>\n",
       "      <th>3</th>\n",
       "      <td>94</td>\n",
       "      <td>USDC</td>\n",
       "      <td>USD Coin</td>\n",
       "    </tr>\n",
       "    <tr>\n",
       "      <th>4</th>\n",
       "      <td>95</td>\n",
       "      <td>BNB</td>\n",
       "      <td>BNB</td>\n",
       "    </tr>\n",
       "  </tbody>\n",
       "</table>\n",
       "</div>"
      ],
      "text/plain": [
       "   id  code      name\n",
       "0  91   BTC   Bitcoin\n",
       "1  92   ETH  Ethereum\n",
       "2  93  USDT    Tether\n",
       "3  94  USDC  USD Coin\n",
       "4  95   BNB       BNB"
      ]
     },
     "execution_count": 18,
     "metadata": {},
     "output_type": "execute_result"
    }
   ],
   "source": [
    "df.head()"
   ]
  },
  {
   "cell_type": "code",
   "execution_count": 19,
   "id": "ce28c829-ac9f-4956-8bea-05b4e616eab0",
   "metadata": {},
   "outputs": [],
   "source": [
    "cryptos = df['code'].tolist()"
   ]
  },
  {
   "cell_type": "code",
   "execution_count": 20,
   "id": "25422874-4de7-4f3c-942f-3379b5c52625",
   "metadata": {},
   "outputs": [
    {
     "data": {
      "text/plain": [
       "428"
      ]
     },
     "execution_count": 20,
     "metadata": {},
     "output_type": "execute_result"
    }
   ],
   "source": [
    "len(cryptos)"
   ]
  },
  {
   "cell_type": "code",
   "execution_count": 26,
   "id": "3d980b6d-b11a-4021-b66f-b8ac4f38e4fc",
   "metadata": {
    "scrolled": true
   },
   "outputs": [
    {
     "name": "stdout",
     "output_type": "stream",
     "text": [
      "File not found for XEC, skipping...\n",
      "File not found for USDD, skipping...\n",
      "File not found for XDC, skipping...\n",
      "File not found for CHSB, skipping...\n",
      "File not found for SKL, skipping...\n",
      "File not found for PLA, skipping...\n",
      "File not found for SUSHI, skipping...\n",
      "File not found for XNO, skipping...\n",
      "File not found for WTRX, skipping...\n",
      "File not found for XCN, skipping...\n",
      "File not found for BTTOLD, skipping...\n",
      "File not found for DFI, skipping...\n",
      "File not found for LUSD, skipping...\n",
      "File not found for NXM, skipping...\n",
      "File not found for LN, skipping...\n",
      "File not found for BNX, skipping...\n",
      "File not found for MCT, skipping...\n",
      "File not found for PLTC, skipping...\n",
      "File not found for WVLX, skipping...\n",
      "File not found for AVINOC, skipping...\n",
      "File not found for XSGD, skipping...\n",
      "File not found for USDX, skipping...\n",
      "File not found for vUSDC, skipping...\n",
      "File not found for SUN, skipping...\n",
      "File not found for DIVI, skipping...\n",
      "File not found for METIS, skipping...\n",
      "File not found for ASD, skipping...\n",
      "File not found for HOO, skipping...\n",
      "File not found for TOMO, skipping...\n",
      "File not found for IQ, skipping...\n",
      "File not found for KAI, skipping...\n",
      "File not found for vBUSD, skipping...\n",
      "File not found for SAFEMOON, skipping...\n",
      "File not found for COCOS, skipping...\n",
      "File not found for MFT, skipping...\n",
      "File not found for KAS, skipping...\n",
      "File not found for PEPE, skipping...\n",
      "File not found for APT, skipping...\n",
      "File not found for MNT, skipping...\n",
      "File not found for ARB, skipping...\n",
      "File not found for SUI, skipping...\n",
      "File not found for OP, skipping...\n",
      "File not found for FDUSD, skipping...\n",
      "File not found for TAO, skipping...\n",
      "File not found for NOT, skipping...\n",
      "File not found for BONK, skipping...\n",
      "File not found for WIF, skipping...\n",
      "File not found for BGB, skipping...\n",
      "File not found for FLOKI, skipping...\n",
      "File not found for ONDO, skipping...\n",
      "File not found for TIA, skipping...\n",
      "File not found for BRETT, skipping...\n",
      "File not found for PYTH, skipping...\n",
      "File not found for JUP, skipping...\n",
      "File not found for SEI, skipping...\n",
      "File not found for OM, skipping...\n",
      "File not found for FLR, skipping...\n",
      "File not found for AKT, skipping...\n",
      "File not found for BEAM, skipping...\n",
      "File not found for ENA, skipping...\n",
      "File not found for ORDI, skipping...\n",
      "File not found for RON, skipping...\n",
      "File not found for MOG, skipping...\n"
     ]
    }
   ],
   "source": [
    "price_history_data={}\n",
    "for crypto in cryptos:\n",
    "    try:\n",
    "        file_path = fr\"C:\\Users\\Harsha\\Desktop\\New folder\\Dataset\\Price_Data\\{crypto}.csv\"\n",
    "        df = pd.read_csv(file_path)\n",
    "        df = df.sort_index(ascending=False)\n",
    "        df['date'] = pd.to_datetime(df['Start'], errors='coerce',utc=True)\n",
    "        df['month_year'] = df['date'].apply(lambda x: x.strftime('%Y-%m'))\n",
    "        df['this_month_price']=df['Open']\n",
    "        df['next_month_price'] = df['Close']\n",
    "        df['percentage_change'] = (df['next_month_price'] - df['this_month_price']) / df['this_month_price']\n",
    "        for index, row in df.iterrows():\n",
    "            currency=crypto\n",
    "            month_year = row['month_year']\n",
    "            if currency not in price_history_data:\n",
    "                price_history_data[currency]={}\n",
    "            price_history_data[currency][month_year]={\n",
    "                'this_month_price': row['this_month_price'],\n",
    "                'next_month_price': row['next_month_price'],\n",
    "                'percentage_change': row['percentage_change'],\n",
    "                }\n",
    "    except FileNotFoundError:\n",
    "        # Skip if the file is not found\n",
    "        print(f\"File not found for {crypto}, skipping...\")"
   ]
  },
  {
   "cell_type": "code",
   "execution_count": 29,
   "id": "9d907a19-9e15-4d0f-99d6-4a0c6985487e",
   "metadata": {},
   "outputs": [],
   "source": [
    "# File path for the .jsonl file\n",
    "file_path = 'price_history_data.jsonl'\n",
    "\n",
    "# Open the file in write mode\n",
    "with open(file_path, 'w') as file:\n",
    "    # Iterate over each currency in price_history_data\n",
    "    for currency, month_years in price_history_data.items():\n",
    "        # Iterate over each month_year and its corresponding data\n",
    "        for month_year, entries in month_years.items():\n",
    "            json_object = json.dumps({\n",
    "                \"currency\": currency,\n",
    "                \"month_year\": month_year,\n",
    "                \"data\": entries\n",
    "            })\n",
    "            # Write the JSON object to the file with a newline character\n",
    "            file.write(json_object + '\\n')"
   ]
  }
 ],
 "metadata": {
  "kernelspec": {
   "display_name": "Python 3 (ipykernel)",
   "language": "python",
   "name": "python3"
  },
  "language_info": {
   "codemirror_mode": {
    "name": "ipython",
    "version": 3
   },
   "file_extension": ".py",
   "mimetype": "text/x-python",
   "name": "python",
   "nbconvert_exporter": "python",
   "pygments_lexer": "ipython3",
   "version": "3.12.5"
  }
 },
 "nbformat": 4,
 "nbformat_minor": 5
}
