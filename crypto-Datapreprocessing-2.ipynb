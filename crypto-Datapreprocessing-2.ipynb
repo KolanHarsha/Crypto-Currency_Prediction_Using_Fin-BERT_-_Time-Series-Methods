{
 "cells": [
  {
   "cell_type": "code",
   "execution_count": 1,
   "id": "48fdbf87-d5f3-4758-a8f3-c3b5b00ac7ea",
   "metadata": {},
   "outputs": [],
   "source": [
    "import pandas as pd"
   ]
  },
  {
   "cell_type": "code",
   "execution_count": 3,
   "id": "c65400b5-3cb5-494d-b607-24c5d548ebe1",
   "metadata": {},
   "outputs": [],
   "source": [
    "df=pd.read_csv(r\"C:\\Users\\Harsha\\Desktop\\New folder\\Dataset\\currency.csv\")"
   ]
  },
  {
   "cell_type": "code",
   "execution_count": 4,
   "id": "c759b9af-0084-42f8-876b-389780f850da",
   "metadata": {},
   "outputs": [
    {
     "data": {
      "text/html": [
       "<div>\n",
       "<style scoped>\n",
       "    .dataframe tbody tr th:only-of-type {\n",
       "        vertical-align: middle;\n",
       "    }\n",
       "\n",
       "    .dataframe tbody tr th {\n",
       "        vertical-align: top;\n",
       "    }\n",
       "\n",
       "    .dataframe thead th {\n",
       "        text-align: right;\n",
       "    }\n",
       "</style>\n",
       "<table border=\"1\" class=\"dataframe\">\n",
       "  <thead>\n",
       "    <tr style=\"text-align: right;\">\n",
       "      <th></th>\n",
       "      <th>id</th>\n",
       "      <th>code</th>\n",
       "      <th>name</th>\n",
       "    </tr>\n",
       "  </thead>\n",
       "  <tbody>\n",
       "    <tr>\n",
       "      <th>0</th>\n",
       "      <td>91</td>\n",
       "      <td>BTC</td>\n",
       "      <td>Bitcoin</td>\n",
       "    </tr>\n",
       "    <tr>\n",
       "      <th>1</th>\n",
       "      <td>92</td>\n",
       "      <td>ETH</td>\n",
       "      <td>Ethereum</td>\n",
       "    </tr>\n",
       "    <tr>\n",
       "      <th>2</th>\n",
       "      <td>93</td>\n",
       "      <td>USDT</td>\n",
       "      <td>Tether</td>\n",
       "    </tr>\n",
       "    <tr>\n",
       "      <th>3</th>\n",
       "      <td>94</td>\n",
       "      <td>USDC</td>\n",
       "      <td>USD Coin</td>\n",
       "    </tr>\n",
       "    <tr>\n",
       "      <th>4</th>\n",
       "      <td>95</td>\n",
       "      <td>BNB</td>\n",
       "      <td>BNB</td>\n",
       "    </tr>\n",
       "  </tbody>\n",
       "</table>\n",
       "</div>"
      ],
      "text/plain": [
       "   id  code      name\n",
       "0  91   BTC   Bitcoin\n",
       "1  92   ETH  Ethereum\n",
       "2  93  USDT    Tether\n",
       "3  94  USDC  USD Coin\n",
       "4  95   BNB       BNB"
      ]
     },
     "execution_count": 4,
     "metadata": {},
     "output_type": "execute_result"
    }
   ],
   "source": [
    "df.head()"
   ]
  },
  {
   "cell_type": "code",
   "execution_count": 5,
   "id": "ce28c829-ac9f-4956-8bea-05b4e616eab0",
   "metadata": {},
   "outputs": [],
   "source": [
    "cryptos = df['code'].tolist()"
   ]
  },
  {
   "cell_type": "code",
   "execution_count": 6,
   "id": "25422874-4de7-4f3c-942f-3379b5c52625",
   "metadata": {},
   "outputs": [
    {
     "data": {
      "text/plain": [
       "428"
      ]
     },
     "execution_count": 6,
     "metadata": {},
     "output_type": "execute_result"
    }
   ],
   "source": [
    "len(cryptos)"
   ]
  },
  {
   "cell_type": "code",
   "execution_count": 8,
   "id": "3d980b6d-b11a-4021-b66f-b8ac4f38e4fc",
   "metadata": {
    "scrolled": true
   },
   "outputs": [],
   "source": [
    "price_history_data={}\n",
    "for crypto in cryptos:\n",
    "    try:\n",
    "        file_path = fr\"C:\\Users\\Harsha\\Desktop\\New folder\\Dataset\\Price_Data\\{crypto}.csv\"\n",
    "        df = pd.read_csv(file_path)\n",
    "        df = df.sort_index(ascending=False)\n",
    "        df['date'] = pd.to_datetime(df['Start'], errors='coerce',utc=True)\n",
    "        df['month_year'] = df['date'].apply(lambda x: x.strftime('%Y-%m'))\n",
    "        df['this_month_price']=df['Open']\n",
    "        df['next_month_price'] = df['Close']\n",
    "        df['percentage_change'] = (df['next_month_price'] - df['this_month_price']) / df['this_month_price']\n",
    "        for index, row in df.iterrows():\n",
    "            currency=crypto\n",
    "            month_year = row['month_year']\n",
    "            if currency not in price_history_data:\n",
    "                price_history_data[currency]={}\n",
    "            price_history_data[currency][month_year]={\n",
    "                'this_month_price': row['this_month_price'],\n",
    "                'next_month_price': row['next_month_price'],\n",
    "                'percentage_change': row['percentage_change'],\n",
    "                }\n",
    "    except FileNotFoundError:\n",
    "        pass"
   ]
  },
  {
   "cell_type": "code",
   "execution_count": 29,
   "id": "9d907a19-9e15-4d0f-99d6-4a0c6985487e",
   "metadata": {},
   "outputs": [],
   "source": [
    "# File path for the .jsonl file\n",
    "file_path = 'price_history_data.jsonl'\n",
    "\n",
    "# Open the file in write mode\n",
    "with open(file_path, 'w') as file:\n",
    "    # Iterate over each currency in price_history_data\n",
    "    for currency, month_years in price_history_data.items():\n",
    "        # Iterate over each month_year and its corresponding data\n",
    "        for month_year, entries in month_years.items():\n",
    "            json_object = json.dumps({\n",
    "                \"currency\": currency,\n",
    "                \"month_year\": month_year,\n",
    "                \"data\": entries\n",
    "            })\n",
    "            # Write the JSON object to the file with a newline character\n",
    "            file.write(json_object + '\\n')"
   ]
  }
 ],
 "metadata": {
  "kernelspec": {
   "display_name": "Python 3 (ipykernel)",
   "language": "python",
   "name": "python3"
  },
  "language_info": {
   "codemirror_mode": {
    "name": "ipython",
    "version": 3
   },
   "file_extension": ".py",
   "mimetype": "text/x-python",
   "name": "python",
   "nbconvert_exporter": "python",
   "pygments_lexer": "ipython3",
   "version": "3.12.5"
  }
 },
 "nbformat": 4,
 "nbformat_minor": 5
}
