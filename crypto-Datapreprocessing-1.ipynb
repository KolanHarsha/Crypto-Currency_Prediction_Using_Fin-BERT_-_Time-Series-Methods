{
 "cells": [
  {
   "cell_type": "code",
   "execution_count": 1,
   "id": "5b227887-4098-446f-bfa2-3c0d6cd3b1d7",
   "metadata": {
    "scrolled": true
   },
   "outputs": [
    {
     "name": "stderr",
     "output_type": "stream",
     "text": [
      "C:\\Users\\Harsha\\AppData\\Local\\Programs\\Python\\Python312\\Lib\\site-packages\\tqdm\\auto.py:21: TqdmWarning: IProgress not found. Please update jupyter and ipywidgets. See https://ipywidgets.readthedocs.io/en/stable/user_install.html\n",
      "  from .autonotebook import tqdm as notebook_tqdm\n"
     ]
    }
   ],
   "source": [
    "import pandas as pd\n",
    "from transformers import BertTokenizer\n",
    "import numpy as np\n",
    "import matplotlib.pyplot as plt"
   ]
  },
  {
   "cell_type": "code",
   "execution_count": 2,
   "id": "e089f5f4-46be-48e9-bfa0-17606970b21f",
   "metadata": {
    "scrolled": true
   },
   "outputs": [],
   "source": [
    "df=pd.read_csv(r\"C:\\Users\\Harsha\\Desktop\\New folder\\Dataset\\training_data.csv\")"
   ]
  },
  {
   "cell_type": "code",
   "execution_count": 3,
   "id": "0aa03b3e-90fb-4bdb-8320-20e9b0f7e481",
   "metadata": {},
   "outputs": [
    {
     "data": {
      "text/plain": [
       "(153466, 4)"
      ]
     },
     "execution_count": 3,
     "metadata": {},
     "output_type": "execute_result"
    }
   ],
   "source": [
    "df.shape"
   ]
  },
  {
   "cell_type": "code",
   "execution_count": 4,
   "id": "c56ad35b-bb5d-4cfa-af1c-ab1ce1357cf7",
   "metadata": {},
   "outputs": [],
   "source": [
    "df=df.dropna()"
   ]
  },
  {
   "cell_type": "code",
   "execution_count": 5,
   "id": "5a77a796-c1df-40e8-9a69-6ca73a02ac34",
   "metadata": {},
   "outputs": [
    {
     "data": {
      "text/plain": [
       "(153465, 4)"
      ]
     },
     "execution_count": 5,
     "metadata": {},
     "output_type": "execute_result"
    }
   ],
   "source": [
    "df.shape"
   ]
  },
  {
   "cell_type": "code",
   "execution_count": 6,
   "id": "e76132ee-fad7-4384-b23e-0044b1f151d1",
   "metadata": {
    "scrolled": true
   },
   "outputs": [
    {
     "data": {
      "text/html": [
       "<div>\n",
       "<style scoped>\n",
       "    .dataframe tbody tr th:only-of-type {\n",
       "        vertical-align: middle;\n",
       "    }\n",
       "\n",
       "    .dataframe tbody tr th {\n",
       "        vertical-align: top;\n",
       "    }\n",
       "\n",
       "    .dataframe thead th {\n",
       "        text-align: right;\n",
       "    }\n",
       "</style>\n",
       "<table border=\"1\" class=\"dataframe\">\n",
       "  <thead>\n",
       "    <tr style=\"text-align: right;\">\n",
       "      <th></th>\n",
       "      <th>id</th>\n",
       "      <th>title</th>\n",
       "      <th>newsDatetime</th>\n",
       "      <th>currencies</th>\n",
       "    </tr>\n",
       "  </thead>\n",
       "  <tbody>\n",
       "    <tr>\n",
       "      <th>0</th>\n",
       "      <td>873</td>\n",
       "      <td>ApeCoin Community Votes to Stay on Ethereum</td>\n",
       "      <td>06-09-2022 06:57</td>\n",
       "      <td>ETH,APE</td>\n",
       "    </tr>\n",
       "    <tr>\n",
       "      <th>1</th>\n",
       "      <td>876</td>\n",
       "      <td>Anchor dev claims he warned Do Kwon over unsus...</td>\n",
       "      <td>06-09-2022 05:39</td>\n",
       "      <td>LUNC</td>\n",
       "    </tr>\n",
       "    <tr>\n",
       "      <th>2</th>\n",
       "      <td>877</td>\n",
       "      <td>With 12 Key Measures of Prices, Truflation’s R...</td>\n",
       "      <td>06-09-2022 05:32</td>\n",
       "      <td>XCN</td>\n",
       "    </tr>\n",
       "    <tr>\n",
       "      <th>3</th>\n",
       "      <td>879</td>\n",
       "      <td>Solana launches $100M fund to attract crypto p...</td>\n",
       "      <td>06-09-2022 05:20</td>\n",
       "      <td>SOL,MATIC,FLOW</td>\n",
       "    </tr>\n",
       "    <tr>\n",
       "      <th>4</th>\n",
       "      <td>885</td>\n",
       "      <td>Notice of removal of trading pairs. (2022-06-16)</td>\n",
       "      <td>06-09-2022 03:13</td>\n",
       "      <td>BNB</td>\n",
       "    </tr>\n",
       "  </tbody>\n",
       "</table>\n",
       "</div>"
      ],
      "text/plain": [
       "    id                                              title      newsDatetime  \\\n",
       "0  873        ApeCoin Community Votes to Stay on Ethereum  06-09-2022 06:57   \n",
       "1  876  Anchor dev claims he warned Do Kwon over unsus...  06-09-2022 05:39   \n",
       "2  877  With 12 Key Measures of Prices, Truflation’s R...  06-09-2022 05:32   \n",
       "3  879  Solana launches $100M fund to attract crypto p...  06-09-2022 05:20   \n",
       "4  885   Notice of removal of trading pairs. (2022-06-16)  06-09-2022 03:13   \n",
       "\n",
       "       currencies  \n",
       "0         ETH,APE  \n",
       "1            LUNC  \n",
       "2             XCN  \n",
       "3  SOL,MATIC,FLOW  \n",
       "4             BNB  "
      ]
     },
     "execution_count": 6,
     "metadata": {},
     "output_type": "execute_result"
    }
   ],
   "source": [
    "df.head()"
   ]
  },
  {
   "cell_type": "code",
   "execution_count": 7,
   "id": "dc24479a-365e-4e72-8d30-11108cb03863",
   "metadata": {},
   "outputs": [],
   "source": [
    "# Split the 'currencies' column into separate rows\n",
    "df = df.assign(currencies=df['currencies'].str.split(',')).explode('currencies').reset_index(drop=True)\n"
   ]
  },
  {
   "cell_type": "code",
   "execution_count": 8,
   "id": "9cf3b55b-534a-44e4-9d71-91e62adf6175",
   "metadata": {},
   "outputs": [
    {
     "data": {
      "text/plain": [
       "(233929, 4)"
      ]
     },
     "execution_count": 8,
     "metadata": {},
     "output_type": "execute_result"
    }
   ],
   "source": [
    "df.shape"
   ]
  },
  {
   "cell_type": "code",
   "execution_count": 9,
   "id": "8baf5995-af8a-4a07-b387-a331930ce694",
   "metadata": {
    "scrolled": true
   },
   "outputs": [
    {
     "data": {
      "text/html": [
       "<div>\n",
       "<style scoped>\n",
       "    .dataframe tbody tr th:only-of-type {\n",
       "        vertical-align: middle;\n",
       "    }\n",
       "\n",
       "    .dataframe tbody tr th {\n",
       "        vertical-align: top;\n",
       "    }\n",
       "\n",
       "    .dataframe thead th {\n",
       "        text-align: right;\n",
       "    }\n",
       "</style>\n",
       "<table border=\"1\" class=\"dataframe\">\n",
       "  <thead>\n",
       "    <tr style=\"text-align: right;\">\n",
       "      <th></th>\n",
       "      <th>id</th>\n",
       "      <th>title</th>\n",
       "      <th>newsDatetime</th>\n",
       "      <th>currencies</th>\n",
       "    </tr>\n",
       "  </thead>\n",
       "  <tbody>\n",
       "    <tr>\n",
       "      <th>0</th>\n",
       "      <td>873</td>\n",
       "      <td>ApeCoin Community Votes to Stay on Ethereum</td>\n",
       "      <td>06-09-2022 06:57</td>\n",
       "      <td>ETH</td>\n",
       "    </tr>\n",
       "    <tr>\n",
       "      <th>1</th>\n",
       "      <td>873</td>\n",
       "      <td>ApeCoin Community Votes to Stay on Ethereum</td>\n",
       "      <td>06-09-2022 06:57</td>\n",
       "      <td>APE</td>\n",
       "    </tr>\n",
       "    <tr>\n",
       "      <th>2</th>\n",
       "      <td>876</td>\n",
       "      <td>Anchor dev claims he warned Do Kwon over unsus...</td>\n",
       "      <td>06-09-2022 05:39</td>\n",
       "      <td>LUNC</td>\n",
       "    </tr>\n",
       "    <tr>\n",
       "      <th>3</th>\n",
       "      <td>877</td>\n",
       "      <td>With 12 Key Measures of Prices, Truflation’s R...</td>\n",
       "      <td>06-09-2022 05:32</td>\n",
       "      <td>XCN</td>\n",
       "    </tr>\n",
       "    <tr>\n",
       "      <th>4</th>\n",
       "      <td>879</td>\n",
       "      <td>Solana launches $100M fund to attract crypto p...</td>\n",
       "      <td>06-09-2022 05:20</td>\n",
       "      <td>SOL</td>\n",
       "    </tr>\n",
       "  </tbody>\n",
       "</table>\n",
       "</div>"
      ],
      "text/plain": [
       "    id                                              title      newsDatetime  \\\n",
       "0  873        ApeCoin Community Votes to Stay on Ethereum  06-09-2022 06:57   \n",
       "1  873        ApeCoin Community Votes to Stay on Ethereum  06-09-2022 06:57   \n",
       "2  876  Anchor dev claims he warned Do Kwon over unsus...  06-09-2022 05:39   \n",
       "3  877  With 12 Key Measures of Prices, Truflation’s R...  06-09-2022 05:32   \n",
       "4  879  Solana launches $100M fund to attract crypto p...  06-09-2022 05:20   \n",
       "\n",
       "  currencies  \n",
       "0        ETH  \n",
       "1        APE  \n",
       "2       LUNC  \n",
       "3        XCN  \n",
       "4        SOL  "
      ]
     },
     "execution_count": 9,
     "metadata": {},
     "output_type": "execute_result"
    }
   ],
   "source": [
    "df.head()"
   ]
  },
  {
   "cell_type": "code",
   "execution_count": 10,
   "id": "eb77e3f1-255b-4dc2-9aa0-764e5d15d8c3",
   "metadata": {},
   "outputs": [
    {
     "name": "stdout",
     "output_type": "stream",
     "text": [
      "421\n"
     ]
    }
   ],
   "source": [
    "Number_of_stocks=len(df['currencies'].unique())\n",
    "print(Number_of_stocks)"
   ]
  },
  {
   "cell_type": "code",
   "execution_count": 11,
   "id": "d2d8b2f4-262c-406a-91a1-d395de485079",
   "metadata": {
    "scrolled": true
   },
   "outputs": [
    {
     "name": "stderr",
     "output_type": "stream",
     "text": [
      "C:\\Users\\Harsha\\AppData\\Local\\Programs\\Python\\Python312\\Lib\\site-packages\\transformers\\tokenization_utils_base.py:1601: FutureWarning: `clean_up_tokenization_spaces` was not set. It will be set to `True` by default. This behavior will be depracted in transformers v4.45, and will be then set to `False` by default. For more details check this issue: https://github.com/huggingface/transformers/issues/31884\n",
      "  warnings.warn(\n"
     ]
    }
   ],
   "source": [
    "tokenizer = BertTokenizer.from_pretrained(\"ProsusAI/finbert\")\n",
    "\n",
    "\n",
    "df_temp = df\n",
    "\n",
    "token_lengths = df_temp['title'].apply(lambda x: len(tokenizer.encode(x, add_special_tokens=True)))"
   ]
  },
  {
   "cell_type": "code",
   "execution_count": 12,
   "id": "af736717-791d-4b8a-be69-36c598192287",
   "metadata": {},
   "outputs": [
    {
     "data": {
      "image/png": "[encoded data removed]",
      "text/plain": [
       "<Figure size 1000x600 with 1 Axes>"
      ]
     },
     "metadata": {},
     "output_type": "display_data"
    }
   ],
   "source": [
    "plt.figure(figsize=(10, 6))\n",
    "plt.hist(token_lengths, bins=30, edgecolor='black', color='skyblue')\n",
    "plt.title('Distribution of Token Lengths')\n",
    "plt.xlabel('Token Length')\n",
    "plt.ylabel('Frequency')\n",
    "plt.show()"
   ]
  },
  {
   "cell_type": "code",
   "execution_count": 11,
   "id": "c6f6cd83-dbab-4524-aaaf-0e8f0d9d25bc",
   "metadata": {},
   "outputs": [],
   "source": [
    "df['date'] = pd.to_datetime(df['newsDatetime'], errors='coerce',utc=True)"
   ]
  },
  {
   "cell_type": "code",
   "execution_count": 12,
   "id": "164fd93d-05b4-48ad-8537-b561b954fa1a",
   "metadata": {},
   "outputs": [
    {
     "data": {
      "text/html": [
       "<div>\n",
       "<style scoped>\n",
       "    .dataframe tbody tr th:only-of-type {\n",
       "        vertical-align: middle;\n",
       "    }\n",
       "\n",
       "    .dataframe tbody tr th {\n",
       "        vertical-align: top;\n",
       "    }\n",
       "\n",
       "    .dataframe thead th {\n",
       "        text-align: right;\n",
       "    }\n",
       "</style>\n",
       "<table border=\"1\" class=\"dataframe\">\n",
       "  <thead>\n",
       "    <tr style=\"text-align: right;\">\n",
       "      <th></th>\n",
       "      <th>id</th>\n",
       "      <th>title</th>\n",
       "      <th>newsDatetime</th>\n",
       "      <th>currencies</th>\n",
       "      <th>date</th>\n",
       "    </tr>\n",
       "  </thead>\n",
       "  <tbody>\n",
       "    <tr>\n",
       "      <th>0</th>\n",
       "      <td>873</td>\n",
       "      <td>ApeCoin Community Votes to Stay on Ethereum</td>\n",
       "      <td>06-09-2022 06:57</td>\n",
       "      <td>ETH</td>\n",
       "      <td>2022-06-09 06:57:00+00:00</td>\n",
       "    </tr>\n",
       "    <tr>\n",
       "      <th>1</th>\n",
       "      <td>873</td>\n",
       "      <td>ApeCoin Community Votes to Stay on Ethereum</td>\n",
       "      <td>06-09-2022 06:57</td>\n",
       "      <td>APE</td>\n",
       "      <td>2022-06-09 06:57:00+00:00</td>\n",
       "    </tr>\n",
       "    <tr>\n",
       "      <th>2</th>\n",
       "      <td>876</td>\n",
       "      <td>Anchor dev claims he warned Do Kwon over unsus...</td>\n",
       "      <td>06-09-2022 05:39</td>\n",
       "      <td>LUNC</td>\n",
       "      <td>2022-06-09 05:39:00+00:00</td>\n",
       "    </tr>\n",
       "    <tr>\n",
       "      <th>3</th>\n",
       "      <td>877</td>\n",
       "      <td>With 12 Key Measures of Prices, Truflation’s R...</td>\n",
       "      <td>06-09-2022 05:32</td>\n",
       "      <td>XCN</td>\n",
       "      <td>2022-06-09 05:32:00+00:00</td>\n",
       "    </tr>\n",
       "    <tr>\n",
       "      <th>4</th>\n",
       "      <td>879</td>\n",
       "      <td>Solana launches $100M fund to attract crypto p...</td>\n",
       "      <td>06-09-2022 05:20</td>\n",
       "      <td>SOL</td>\n",
       "      <td>2022-06-09 05:20:00+00:00</td>\n",
       "    </tr>\n",
       "  </tbody>\n",
       "</table>\n",
       "</div>"
      ],
      "text/plain": [
       "    id                                              title      newsDatetime  \\\n",
       "0  873        ApeCoin Community Votes to Stay on Ethereum  06-09-2022 06:57   \n",
       "1  873        ApeCoin Community Votes to Stay on Ethereum  06-09-2022 06:57   \n",
       "2  876  Anchor dev claims he warned Do Kwon over unsus...  06-09-2022 05:39   \n",
       "3  877  With 12 Key Measures of Prices, Truflation’s R...  06-09-2022 05:32   \n",
       "4  879  Solana launches $100M fund to attract crypto p...  06-09-2022 05:20   \n",
       "\n",
       "  currencies                      date  \n",
       "0        ETH 2022-06-09 06:57:00+00:00  \n",
       "1        APE 2022-06-09 06:57:00+00:00  \n",
       "2       LUNC 2022-06-09 05:39:00+00:00  \n",
       "3        XCN 2022-06-09 05:32:00+00:00  \n",
       "4        SOL 2022-06-09 05:20:00+00:00  "
      ]
     },
     "execution_count": 12,
     "metadata": {},
     "output_type": "execute_result"
    }
   ],
   "source": [
    "df.head()"
   ]
  },
  {
   "cell_type": "code",
   "execution_count": 13,
   "id": "a7c78e61-43aa-49e7-85bb-538d9801c2b3",
   "metadata": {},
   "outputs": [
    {
     "data": {
      "text/plain": [
       "id                   0\n",
       "title                0\n",
       "newsDatetime         0\n",
       "currencies           0\n",
       "date            134573\n",
       "dtype: int64"
      ]
     },
     "execution_count": 13,
     "metadata": {},
     "output_type": "execute_result"
    }
   ],
   "source": [
    "df.isnull().sum()"
   ]
  },
  {
   "cell_type": "markdown",
   "id": "0e0f1614-03db-42bc-8e3b-c1ede1ee44d4",
   "metadata": {},
   "source": [
    "### Few rows have different date format"
   ]
  },
  {
   "cell_type": "code",
   "execution_count": 14,
   "id": "bab2283f-9ae8-4339-a7a9-49c167731ae7",
   "metadata": {},
   "outputs": [],
   "source": [
    "# split the dataset into seperate dataframes to handle null values in date column\n",
    "df2 = df[df['date'].isnull()]\n",
    "df = df[~df['date'].isnull()]"
   ]
  },
  {
   "cell_type": "code",
   "execution_count": 15,
   "id": "67ed312e-483d-4bf9-a3b2-0ee67db8ab1c",
   "metadata": {
    "scrolled": true
   },
   "outputs": [
    {
     "data": {
      "text/html": [
       "<div>\n",
       "<style scoped>\n",
       "    .dataframe tbody tr th:only-of-type {\n",
       "        vertical-align: middle;\n",
       "    }\n",
       "\n",
       "    .dataframe tbody tr th {\n",
       "        vertical-align: top;\n",
       "    }\n",
       "\n",
       "    .dataframe thead th {\n",
       "        text-align: right;\n",
       "    }\n",
       "</style>\n",
       "<table border=\"1\" class=\"dataframe\">\n",
       "  <thead>\n",
       "    <tr style=\"text-align: right;\">\n",
       "      <th></th>\n",
       "      <th>id</th>\n",
       "      <th>title</th>\n",
       "      <th>newsDatetime</th>\n",
       "      <th>currencies</th>\n",
       "      <th>date</th>\n",
       "    </tr>\n",
       "  </thead>\n",
       "  <tbody>\n",
       "    <tr>\n",
       "      <th>233924</th>\n",
       "      <td>163965</td>\n",
       "      <td>So now lets have a look on April\\n\\n#mogwai #c...</td>\n",
       "      <td>12/29/2020 17:05</td>\n",
       "      <td>MOG</td>\n",
       "      <td>NaT</td>\n",
       "    </tr>\n",
       "    <tr>\n",
       "      <th>233925</th>\n",
       "      <td>163966</td>\n",
       "      <td>Wow what a Year! \\nLets have a look at March.\\...</td>\n",
       "      <td>12/29/2020 14:43</td>\n",
       "      <td>MOG</td>\n",
       "      <td>NaT</td>\n",
       "    </tr>\n",
       "    <tr>\n",
       "      <th>233926</th>\n",
       "      <td>163967</td>\n",
       "      <td>Wow what a Year! \\nLets have a look back on Fe...</td>\n",
       "      <td>12/29/2020 13:14</td>\n",
       "      <td>MOG</td>\n",
       "      <td>NaT</td>\n",
       "    </tr>\n",
       "    <tr>\n",
       "      <th>233927</th>\n",
       "      <td>163968</td>\n",
       "      <td>Wow what a Year! \\nLets have a look at January...</td>\n",
       "      <td>12/29/2020 12:43</td>\n",
       "      <td>MOG</td>\n",
       "      <td>NaT</td>\n",
       "    </tr>\n",
       "    <tr>\n",
       "      <th>233928</th>\n",
       "      <td>163969</td>\n",
       "      <td>Wow what a Year! \\nWe would like to thank all ...</td>\n",
       "      <td>12/29/2020 12:15</td>\n",
       "      <td>MOG</td>\n",
       "      <td>NaT</td>\n",
       "    </tr>\n",
       "  </tbody>\n",
       "</table>\n",
       "</div>"
      ],
      "text/plain": [
       "            id                                              title  \\\n",
       "233924  163965  So now lets have a look on April\\n\\n#mogwai #c...   \n",
       "233925  163966  Wow what a Year! \\nLets have a look at March.\\...   \n",
       "233926  163967  Wow what a Year! \\nLets have a look back on Fe...   \n",
       "233927  163968  Wow what a Year! \\nLets have a look at January...   \n",
       "233928  163969  Wow what a Year! \\nWe would like to thank all ...   \n",
       "\n",
       "            newsDatetime currencies date  \n",
       "233924  12/29/2020 17:05        MOG  NaT  \n",
       "233925  12/29/2020 14:43        MOG  NaT  \n",
       "233926  12/29/2020 13:14        MOG  NaT  \n",
       "233927  12/29/2020 12:43        MOG  NaT  \n",
       "233928  12/29/2020 12:15        MOG  NaT  "
      ]
     },
     "execution_count": 15,
     "metadata": {},
     "output_type": "execute_result"
    }
   ],
   "source": [
    "df2.tail()"
   ]
  },
  {
   "cell_type": "code",
   "execution_count": 16,
   "id": "847ca018-e26c-44bc-8bc8-d83dbbf2bc49",
   "metadata": {},
   "outputs": [],
   "source": [
    "df2['date'] = pd.to_datetime(df2['newsDatetime'], format='%m/%d/%Y %H:%M', errors='coerce', utc=True)\n"
   ]
  },
  {
   "cell_type": "code",
   "execution_count": 17,
   "id": "d87d41e7-a961-4672-970a-8698073feb83",
   "metadata": {
    "scrolled": true
   },
   "outputs": [
    {
     "data": {
      "text/html": [
       "<div>\n",
       "<style scoped>\n",
       "    .dataframe tbody tr th:only-of-type {\n",
       "        vertical-align: middle;\n",
       "    }\n",
       "\n",
       "    .dataframe tbody tr th {\n",
       "        vertical-align: top;\n",
       "    }\n",
       "\n",
       "    .dataframe thead th {\n",
       "        text-align: right;\n",
       "    }\n",
       "</style>\n",
       "<table border=\"1\" class=\"dataframe\">\n",
       "  <thead>\n",
       "    <tr style=\"text-align: right;\">\n",
       "      <th></th>\n",
       "      <th>id</th>\n",
       "      <th>title</th>\n",
       "      <th>newsDatetime</th>\n",
       "      <th>currencies</th>\n",
       "      <th>date</th>\n",
       "    </tr>\n",
       "  </thead>\n",
       "  <tbody>\n",
       "    <tr>\n",
       "      <th>172</th>\n",
       "      <td>1187</td>\n",
       "      <td>How This Achievement Brought Ethereum Closer T...</td>\n",
       "      <td>5/31/2022 18:00</td>\n",
       "      <td>BTC</td>\n",
       "      <td>2022-05-31 18:00:00+00:00</td>\n",
       "    </tr>\n",
       "    <tr>\n",
       "      <th>173</th>\n",
       "      <td>1187</td>\n",
       "      <td>How This Achievement Brought Ethereum Closer T...</td>\n",
       "      <td>5/31/2022 18:00</td>\n",
       "      <td>ETH</td>\n",
       "      <td>2022-05-31 18:00:00+00:00</td>\n",
       "    </tr>\n",
       "    <tr>\n",
       "      <th>174</th>\n",
       "      <td>1187</td>\n",
       "      <td>How This Achievement Brought Ethereum Closer T...</td>\n",
       "      <td>5/31/2022 18:00</td>\n",
       "      <td>SOL</td>\n",
       "      <td>2022-05-31 18:00:00+00:00</td>\n",
       "    </tr>\n",
       "    <tr>\n",
       "      <th>175</th>\n",
       "      <td>1187</td>\n",
       "      <td>How This Achievement Brought Ethereum Closer T...</td>\n",
       "      <td>5/31/2022 18:00</td>\n",
       "      <td>AVAX</td>\n",
       "      <td>2022-05-31 18:00:00+00:00</td>\n",
       "    </tr>\n",
       "    <tr>\n",
       "      <th>176</th>\n",
       "      <td>1187</td>\n",
       "      <td>How This Achievement Brought Ethereum Closer T...</td>\n",
       "      <td>5/31/2022 18:00</td>\n",
       "      <td>XCN</td>\n",
       "      <td>2022-05-31 18:00:00+00:00</td>\n",
       "    </tr>\n",
       "  </tbody>\n",
       "</table>\n",
       "</div>"
      ],
      "text/plain": [
       "       id                                              title     newsDatetime  \\\n",
       "172  1187  How This Achievement Brought Ethereum Closer T...  5/31/2022 18:00   \n",
       "173  1187  How This Achievement Brought Ethereum Closer T...  5/31/2022 18:00   \n",
       "174  1187  How This Achievement Brought Ethereum Closer T...  5/31/2022 18:00   \n",
       "175  1187  How This Achievement Brought Ethereum Closer T...  5/31/2022 18:00   \n",
       "176  1187  How This Achievement Brought Ethereum Closer T...  5/31/2022 18:00   \n",
       "\n",
       "    currencies                      date  \n",
       "172        BTC 2022-05-31 18:00:00+00:00  \n",
       "173        ETH 2022-05-31 18:00:00+00:00  \n",
       "174        SOL 2022-05-31 18:00:00+00:00  \n",
       "175       AVAX 2022-05-31 18:00:00+00:00  \n",
       "176        XCN 2022-05-31 18:00:00+00:00  "
      ]
     },
     "execution_count": 17,
     "metadata": {},
     "output_type": "execute_result"
    }
   ],
   "source": [
    "df2.head()"
   ]
  },
  {
   "cell_type": "code",
   "execution_count": 18,
   "id": "af4644ee-e1b2-406f-9c6c-6e260cb6eaaa",
   "metadata": {},
   "outputs": [],
   "source": [
    "df = pd.concat([df, df2], axis=0, ignore_index=True)\n"
   ]
  },
  {
   "cell_type": "code",
   "execution_count": 19,
   "id": "129dfaea-b2ef-4380-8912-786b96dd2ce3",
   "metadata": {},
   "outputs": [
    {
     "data": {
      "text/plain": [
       "id              0\n",
       "title           0\n",
       "newsDatetime    0\n",
       "currencies      0\n",
       "date            0\n",
       "dtype: int64"
      ]
     },
     "execution_count": 19,
     "metadata": {},
     "output_type": "execute_result"
    }
   ],
   "source": [
    "df.isnull().sum()"
   ]
  },
  {
   "cell_type": "code",
   "execution_count": 20,
   "id": "f8c5dd29-36c7-433d-8a04-a59bc2a1d48f",
   "metadata": {},
   "outputs": [],
   "source": [
    "# Extract month and year into a new column\n",
    "df['month_year'] = df['date'].apply(lambda x: x.strftime('%Y-%m'))"
   ]
  },
  {
   "cell_type": "code",
   "execution_count": 21,
   "id": "18c78255-95a9-4aca-aee3-d671692c5a43",
   "metadata": {},
   "outputs": [
    {
     "data": {
      "text/html": [
       "<div>\n",
       "<style scoped>\n",
       "    .dataframe tbody tr th:only-of-type {\n",
       "        vertical-align: middle;\n",
       "    }\n",
       "\n",
       "    .dataframe tbody tr th {\n",
       "        vertical-align: top;\n",
       "    }\n",
       "\n",
       "    .dataframe thead th {\n",
       "        text-align: right;\n",
       "    }\n",
       "</style>\n",
       "<table border=\"1\" class=\"dataframe\">\n",
       "  <thead>\n",
       "    <tr style=\"text-align: right;\">\n",
       "      <th></th>\n",
       "      <th>id</th>\n",
       "      <th>title</th>\n",
       "      <th>newsDatetime</th>\n",
       "      <th>currencies</th>\n",
       "      <th>date</th>\n",
       "      <th>month_year</th>\n",
       "    </tr>\n",
       "  </thead>\n",
       "  <tbody>\n",
       "    <tr>\n",
       "      <th>0</th>\n",
       "      <td>873</td>\n",
       "      <td>ApeCoin Community Votes to Stay on Ethereum</td>\n",
       "      <td>06-09-2022 06:57</td>\n",
       "      <td>ETH</td>\n",
       "      <td>2022-06-09 06:57:00+00:00</td>\n",
       "      <td>2022-06</td>\n",
       "    </tr>\n",
       "    <tr>\n",
       "      <th>1</th>\n",
       "      <td>873</td>\n",
       "      <td>ApeCoin Community Votes to Stay on Ethereum</td>\n",
       "      <td>06-09-2022 06:57</td>\n",
       "      <td>APE</td>\n",
       "      <td>2022-06-09 06:57:00+00:00</td>\n",
       "      <td>2022-06</td>\n",
       "    </tr>\n",
       "    <tr>\n",
       "      <th>2</th>\n",
       "      <td>876</td>\n",
       "      <td>Anchor dev claims he warned Do Kwon over unsus...</td>\n",
       "      <td>06-09-2022 05:39</td>\n",
       "      <td>LUNC</td>\n",
       "      <td>2022-06-09 05:39:00+00:00</td>\n",
       "      <td>2022-06</td>\n",
       "    </tr>\n",
       "    <tr>\n",
       "      <th>3</th>\n",
       "      <td>877</td>\n",
       "      <td>With 12 Key Measures of Prices, Truflation’s R...</td>\n",
       "      <td>06-09-2022 05:32</td>\n",
       "      <td>XCN</td>\n",
       "      <td>2022-06-09 05:32:00+00:00</td>\n",
       "      <td>2022-06</td>\n",
       "    </tr>\n",
       "    <tr>\n",
       "      <th>4</th>\n",
       "      <td>879</td>\n",
       "      <td>Solana launches $100M fund to attract crypto p...</td>\n",
       "      <td>06-09-2022 05:20</td>\n",
       "      <td>SOL</td>\n",
       "      <td>2022-06-09 05:20:00+00:00</td>\n",
       "      <td>2022-06</td>\n",
       "    </tr>\n",
       "  </tbody>\n",
       "</table>\n",
       "</div>"
      ],
      "text/plain": [
       "    id                                              title      newsDatetime  \\\n",
       "0  873        ApeCoin Community Votes to Stay on Ethereum  06-09-2022 06:57   \n",
       "1  873        ApeCoin Community Votes to Stay on Ethereum  06-09-2022 06:57   \n",
       "2  876  Anchor dev claims he warned Do Kwon over unsus...  06-09-2022 05:39   \n",
       "3  877  With 12 Key Measures of Prices, Truflation’s R...  06-09-2022 05:32   \n",
       "4  879  Solana launches $100M fund to attract crypto p...  06-09-2022 05:20   \n",
       "\n",
       "  currencies                      date month_year  \n",
       "0        ETH 2022-06-09 06:57:00+00:00    2022-06  \n",
       "1        APE 2022-06-09 06:57:00+00:00    2022-06  \n",
       "2       LUNC 2022-06-09 05:39:00+00:00    2022-06  \n",
       "3        XCN 2022-06-09 05:32:00+00:00    2022-06  \n",
       "4        SOL 2022-06-09 05:20:00+00:00    2022-06  "
      ]
     },
     "execution_count": 21,
     "metadata": {},
     "output_type": "execute_result"
    }
   ],
   "source": [
    "df.head()"
   ]
  },
  {
   "cell_type": "code",
   "execution_count": 25,
   "id": "3f9f46b6-d227-4713-93fd-d6da12c83d4c",
   "metadata": {},
   "outputs": [
    {
     "name": "stderr",
     "output_type": "stream",
     "text": [
      "C:\\Users\\Harsha\\AppData\\Local\\Temp\\ipykernel_23572\\1884985501.py:2: DeprecationWarning: DataFrameGroupBy.apply operated on the grouping columns. This behavior is deprecated, and in a future version of pandas the grouping columns will be excluded from the operation. Either pass `include_groups=False` to exclude the groupings or explicitly select the grouping columns after groupby to silence this warning.\n",
      "  grouped = df.groupby(['currencies', 'month_year']).apply(lambda x: x[['title', 'date']].to_dict('records')).reset_index(name='data')\n"
     ]
    }
   ],
   "source": [
    "# Group by 'currencies' and 'month_year', and aggregate 'title' and 'date'\n",
    "grouped = df.groupby(['currencies', 'month_year']).apply(lambda x: x[['title', 'date']].to_dict('records')).reset_index(name='data')\n"
   ]
  },
  {
   "cell_type": "code",
   "execution_count": 29,
   "id": "36363470-2b95-494f-9db6-912477f559dd",
   "metadata": {},
   "outputs": [
    {
     "data": {
      "text/html": [
       "<div>\n",
       "<style scoped>\n",
       "    .dataframe tbody tr th:only-of-type {\n",
       "        vertical-align: middle;\n",
       "    }\n",
       "\n",
       "    .dataframe tbody tr th {\n",
       "        vertical-align: top;\n",
       "    }\n",
       "\n",
       "    .dataframe thead th {\n",
       "        text-align: right;\n",
       "    }\n",
       "</style>\n",
       "<table border=\"1\" class=\"dataframe\">\n",
       "  <thead>\n",
       "    <tr style=\"text-align: right;\">\n",
       "      <th></th>\n",
       "      <th>currencies</th>\n",
       "      <th>month_year</th>\n",
       "      <th>data</th>\n",
       "    </tr>\n",
       "  </thead>\n",
       "  <tbody>\n",
       "    <tr>\n",
       "      <th>8794</th>\n",
       "      <td>ZRX</td>\n",
       "      <td>2023-07</td>\n",
       "      <td>[{'title': 'If they can deploy a bridge with o...</td>\n",
       "    </tr>\n",
       "    <tr>\n",
       "      <th>8795</th>\n",
       "      <td>ZRX</td>\n",
       "      <td>2023-09</td>\n",
       "      <td>[{'title': 'Will the CFTC Blot Out DeFi in the...</td>\n",
       "    </tr>\n",
       "    <tr>\n",
       "      <th>8796</th>\n",
       "      <td>ZRX</td>\n",
       "      <td>2024-03</td>\n",
       "      <td>[{'title': 'These Are The Ethereum Altcoins Wi...</td>\n",
       "    </tr>\n",
       "    <tr>\n",
       "      <th>8797</th>\n",
       "      <td>ZRX</td>\n",
       "      <td>2024-04</td>\n",
       "      <td>[{'title': '85% of Altcoins Are in Historic Bu...</td>\n",
       "    </tr>\n",
       "    <tr>\n",
       "      <th>8798</th>\n",
       "      <td>ZRX</td>\n",
       "      <td>2024-05</td>\n",
       "      <td>[{'title': 'Donald Trump’s Crypto Move In US E...</td>\n",
       "    </tr>\n",
       "  </tbody>\n",
       "</table>\n",
       "</div>"
      ],
      "text/plain": [
       "     currencies month_year                                               data\n",
       "8794        ZRX    2023-07  [{'title': 'If they can deploy a bridge with o...\n",
       "8795        ZRX    2023-09  [{'title': 'Will the CFTC Blot Out DeFi in the...\n",
       "8796        ZRX    2024-03  [{'title': 'These Are The Ethereum Altcoins Wi...\n",
       "8797        ZRX    2024-04  [{'title': '85% of Altcoins Are in Historic Bu...\n",
       "8798        ZRX    2024-05  [{'title': 'Donald Trump’s Crypto Move In US E..."
      ]
     },
     "execution_count": 29,
     "metadata": {},
     "output_type": "execute_result"
    }
   ],
   "source": [
    "grouped.tail()"
   ]
  },
  {
   "cell_type": "code",
   "execution_count": 28,
   "id": "51714ffd-d555-4604-b141-b722c1f41203",
   "metadata": {},
   "outputs": [],
   "source": [
    "# Convert the grouped data into the desired dictionary structure\n",
    "grouped_data = {}\n",
    "for index, row in grouped.iterrows():\n",
    "    currency = row['currencies']\n",
    "    month_year = row['month_year']\n",
    "    if currency not in grouped_data:\n",
    "        grouped_data[currency] = {}\n",
    "    grouped_data[currency][month_year] = row['data']"
   ]
  },
  {
   "cell_type": "code",
   "execution_count": 35,
   "id": "d3ba0526-40d1-432d-844d-4ae9d39d9c6b",
   "metadata": {},
   "outputs": [
    {
     "data": {
      "text/plain": [
       "421"
      ]
     },
     "execution_count": 35,
     "metadata": {},
     "output_type": "execute_result"
    }
   ],
   "source": [
    "len(grouped_data)"
   ]
  },
  {
   "cell_type": "code",
   "execution_count": 36,
   "id": "83b23147-e417-4542-9d0f-15bd9130f717",
   "metadata": {},
   "outputs": [],
   "source": [
    "import copy\n",
    "\n",
    "# Deep copy the original grouped_data to ensure it's not modified\n",
    "training_data = copy.deepcopy(grouped_data)\n",
    "\n",
    "# Iterate over the copied dictionary and filter out month_year with less than 5 items\n",
    "for currency in list(training_data.keys()):\n",
    "    for month_year in list(training_data[currency].keys()):\n",
    "        if len(training_data[currency][month_year]) < 5:\n",
    "            del training_data[currency][month_year]\n",
    "\n",
    "    # If a currency has no remaining month_year, remove the currency from the dictionary\n",
    "    if not training_data[currency]:\n",
    "        del training_data[currency]"
   ]
  },
  {
   "cell_type": "code",
   "execution_count": 37,
   "id": "4ac24b33-25dc-401f-8f67-dd3645c55356",
   "metadata": {},
   "outputs": [
    {
     "data": {
      "text/plain": [
       "421"
      ]
     },
     "execution_count": 37,
     "metadata": {},
     "output_type": "execute_result"
    }
   ],
   "source": [
    "len(grouped_data)"
   ]
  },
  {
   "cell_type": "code",
   "execution_count": 38,
   "id": "e45728e7-3dee-4216-a221-5f6ac1a619b0",
   "metadata": {},
   "outputs": [],
   "source": [
    "import json\n",
    "import datetime\n",
    "\n",
    "def format_datetime(dt):\n",
    "    # Format the datetime object to a string without the timezone\n",
    "    dt_str = dt.strftime('%Y-%m-%d %H:%M:%S')\n",
    "    # Get the timezone offset in hours and minutes\n",
    "    offset_hour = int(dt.utcoffset().total_seconds() / 3600)\n",
    "    offset_min = int((dt.utcoffset().total_seconds() % 3600) / 60)\n",
    "    # Format the timezone offset\n",
    "    offset_str = f\"{offset_hour:+03d}:{offset_min:02d}\"\n",
    "    # Combine the datetime string with the timezone offset\n",
    "    return f\"{dt_str}{offset_str}\""
   ]
  },
  {
   "cell_type": "code",
   "execution_count": 39,
   "id": "0a9da77d-fcdb-4df3-901b-986d75a90ea4",
   "metadata": {},
   "outputs": [],
   "source": [
    "# File path for the .jsonl file\n",
    "file_path = 'training_data.jsonl'\n",
    "\n",
    "# Open the file in write mode\n",
    "with open(file_path, 'w') as file:\n",
    "    # Iterate over each currency in training_data\n",
    "    for currency, month_years in training_data.items():\n",
    "        # Iterate over each month_year and its corresponding data\n",
    "        for month_year, entries in month_years.items():\n",
    "            # Convert datetime objects to formatted strings in each entry\n",
    "            for entry in entries:\n",
    "                if isinstance(entry['date'], datetime.datetime):\n",
    "                    entry['date'] = format_datetime(entry['date'])\n",
    "            json_object = json.dumps({\n",
    "                \"currency\": currency,\n",
    "                \"month_year\": month_year,\n",
    "                \"data\": entries\n",
    "            })\n",
    "            # Write the JSON object to the file with a newline character\n",
    "            file.write(json_object + '\\n')"
   ]
  }
 ],
 "metadata": {
  "kernelspec": {
   "display_name": "Python 3 (ipykernel)",
   "language": "python",
   "name": "python3"
  },
  "language_info": {
   "codemirror_mode": {
    "name": "ipython",
    "version": 3
   },
   "file_extension": ".py",
   "mimetype": "text/x-python",
   "name": "python",
   "nbconvert_exporter": "python",
   "pygments_lexer": "ipython3",
   "version": "3.12.5"
  }
 },
 "nbformat": 4,
 "nbformat_minor": 5
}
